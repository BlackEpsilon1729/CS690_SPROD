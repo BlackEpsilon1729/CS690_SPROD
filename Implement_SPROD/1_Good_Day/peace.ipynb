{
 "cells": [
  {
   "cell_type": "markdown",
   "metadata": {},
   "source": [
    "<!-- Pre-processing\n",
    "1) Create all the pickel files\n",
    "2) Transfer all that files into filtered folder\n",
    "3) Convert png to tif\n",
    "4) create a spatial folder \n",
    "5) Put jason and tissue position file in spatial folder\n",
    "6) put tif files in the input folder\n",
    "7) do the pre-processin \n",
    "8) give counts and meta data to tejas-->"
   ]
  },
  {
   "cell_type": "markdown",
   "metadata": {},
   "source": []
  },
  {
   "cell_type": "code",
   "execution_count": 98,
   "metadata": {},
   "outputs": [
    {
     "name": "stderr",
     "output_type": "stream",
     "text": [
      "/home/g_nemesis/anaconda3/lib/python3.11/site-packages/anndata/_core/anndata.py:1840: UserWarning: Variable names are not unique. To make them unique, call `.var_names_make_unique`.\n",
      "  utils.warn_names_duplicates(\"var\")\n",
      "/home/g_nemesis/anaconda3/lib/python3.11/site-packages/anndata/_core/anndata.py:1840: UserWarning: Variable names are not unique. To make them unique, call `.var_names_make_unique`.\n",
      "  utils.warn_names_duplicates(\"var\")\n"
     ]
    }
   ],
   "source": [
    "import numpy as np\n",
    "import pandas as pd\n",
    "import scanpy as sc\n",
    "import matplotlib.pyplot as plt\n",
    "import seaborn as sns\n",
    "sns.set_theme()\n",
    "import h5py\n",
    "from sklearn.model_selection import ParameterGrid\n",
    "from sklearn.metrics import silhouette_score\n",
    "from scipy.sparse import csr_matrix\n",
    "import pandas as pd\n",
    "\n",
    "\n",
    "pat = \"dataset-4\"\n",
    "adata1 = sc.read_visium(path=pat, count_file='151510_filtered_feature_bc_matrix.h5')\n"
   ]
  },
  {
   "cell_type": "code",
   "execution_count": 99,
   "metadata": {},
   "outputs": [
    {
     "data": {
      "text/plain": [
       "AnnData object with n_obs × n_vars = 4634 × 33538\n",
       "    obs: 'in_tissue', 'array_row', 'array_col'\n",
       "    var: 'gene_ids', 'feature_types', 'genome'\n",
       "    uns: 'spatial'\n",
       "    obsm: 'spatial'"
      ]
     },
     "execution_count": 99,
     "metadata": {},
     "output_type": "execute_result"
    }
   ],
   "source": [
    "adata1"
   ]
  },
  {
   "cell_type": "code",
   "execution_count": 100,
   "metadata": {},
   "outputs": [],
   "source": [
    "adata1\n",
    "adata1.var_names_make_unique()"
   ]
  },
  {
   "cell_type": "code",
   "execution_count": 101,
   "metadata": {},
   "outputs": [],
   "source": [
    "sc.pp.highly_variable_genes(adata1, flavor=\"seurat_v3\", n_top_genes=3000)\n",
    "# sc.pp.normalize_total(adata1, target_sum=1e4)\n",
    "# sc.pp.log1p(adata1)"
   ]
  },
  {
   "cell_type": "code",
   "execution_count": 102,
   "metadata": {},
   "outputs": [
    {
     "data": {
      "text/plain": [
       "AnnData object with n_obs × n_vars = 4634 × 33538\n",
       "    obs: 'in_tissue', 'array_row', 'array_col'\n",
       "    var: 'gene_ids', 'feature_types', 'genome', 'highly_variable', 'highly_variable_rank', 'means', 'variances', 'variances_norm'\n",
       "    uns: 'spatial', 'hvg'\n",
       "    obsm: 'spatial'"
      ]
     },
     "execution_count": 102,
     "metadata": {},
     "output_type": "execute_result"
    }
   ],
   "source": [
    "adata1"
   ]
  },
  {
   "cell_type": "code",
   "execution_count": 103,
   "metadata": {},
   "outputs": [
    {
     "data": {
      "text/plain": [
       "AnnData object with n_obs × n_vars = 4634 × 33538\n",
       "    obs: 'in_tissue', 'array_row', 'array_col'\n",
       "    var: 'gene_ids', 'feature_types', 'genome', 'highly_variable', 'highly_variable_rank', 'means', 'variances', 'variances_norm'\n",
       "    uns: 'spatial', 'hvg'\n",
       "    obsm: 'spatial'"
      ]
     },
     "execution_count": 103,
     "metadata": {},
     "output_type": "execute_result"
    }
   ],
   "source": [
    "# adata1 = adata1[:, adata1.var['highly_variable']]\n",
    "adata1"
   ]
  },
  {
   "cell_type": "code",
   "execution_count": 104,
   "metadata": {},
   "outputs": [],
   "source": [
    "# import pickle\n",
    "# data = list(adata1.var.feature_types.index)\n",
    "# with open(\"features.pkl\",\"wb\") as file:\n",
    "#     pickle.dump(data,file)"
   ]
  },
  {
   "cell_type": "code",
   "execution_count": 105,
   "metadata": {},
   "outputs": [],
   "source": [
    "import pickle\n",
    "barcodes = list(adata1.obs.index)\n",
    "with open(\"barcodes.pkl\",\"wb\") as file:\n",
    "    pickle.dump(barcodes,file)"
   ]
  },
  {
   "cell_type": "code",
   "execution_count": 106,
   "metadata": {},
   "outputs": [],
   "source": [
    "import pickle\n",
    "data = list(adata1.var.feature_types.index)\n",
    "with open(\"features.pkl\",\"wb\") as file:\n",
    "    pickle.dump(data,file)"
   ]
  },
  {
   "cell_type": "code",
   "execution_count": 107,
   "metadata": {},
   "outputs": [],
   "source": [
    "import pandas as pd\n",
    "import scipy.io as sio\n",
    "\n",
    "pd.DataFrame(adata1.X.toarray())\n",
    "\n",
    "sparse_matrix = adata1.X.tocoo()\n",
    "output_file = 'matrix.mtx'\n",
    "sio.mmwrite(output_file, sparse_matrix)"
   ]
  },
  {
   "cell_type": "code",
   "execution_count": null,
   "metadata": {},
   "outputs": [],
   "source": [
    "import gzip\n",
    "import shutil\n",
    "\n",
    "# List of files you want to compress\n",
    "files_to_compress = ['matrix.mtx']\n",
    "\n",
    "# Loop through each file and compress it\n",
    "for file_to_compress in files_to_compress:\n",
    "    with open(file_to_compress, 'rb') as f_in:\n",
    "        with gzip.open(file_to_compress + '.gz', 'wb') as f_out:\n",
    "            shutil.copyfileobj(f_in, f_out)\n",
    "\n"
   ]
  },
  {
   "cell_type": "code",
   "execution_count": null,
   "metadata": {},
   "outputs": [],
   "source": [
    "from PIL import Image\n",
    "# import json\n",
    "\n",
    "\n",
    "# with open('scalefactors_json.json', 'r') as json_file:\n",
    "#     scaling_factors = json.load(json_file)\n",
    "\n",
    "\n",
    "input_image = Image.open('tissue_hires_image.png')  \n",
    "input_image.save('tissue_hires_image.tif') "
   ]
  }
 ],
 "metadata": {
  "kernelspec": {
   "display_name": "sprod2",
   "language": "python",
   "name": "python3"
  },
  "language_info": {
   "codemirror_mode": {
    "name": "ipython",
    "version": 3
   },
   "file_extension": ".py",
   "mimetype": "text/x-python",
   "name": "python",
   "nbconvert_exporter": "python",
   "pygments_lexer": "ipython3",
   "version": "3.11.4"
  },
  "orig_nbformat": 4
 },
 "nbformat": 4,
 "nbformat_minor": 2
}
