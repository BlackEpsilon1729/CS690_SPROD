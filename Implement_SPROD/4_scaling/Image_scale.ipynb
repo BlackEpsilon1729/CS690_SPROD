{
 "cells": [
  {
   "cell_type": "code",
   "execution_count": 3,
   "metadata": {},
   "outputs": [
    {
     "name": "stderr",
     "output_type": "stream",
     "text": [
      "/tmp/ipykernel_17665/3402425778.py:16: DeprecationWarning: ANTIALIAS is deprecated and will be removed in Pillow 10 (2023-07-01). Use LANCZOS or Resampling.LANCZOS instead.\n",
      "  scaled_image = input_image.resize((new_width, new_height), Image.ANTIALIAS)\n"
     ]
    }
   ],
   "source": [
    "from PIL import Image\n",
    "import json\n",
    "\n",
    "\n",
    "with open('scalefactors_json.json', 'r') as json_file:\n",
    "    scaling_factors = json.load(json_file)\n",
    "\n",
    "\n",
    "input_image = Image.open('tissue_hires_image.tif')  \n",
    "\n",
    "original_width, original_height = input_image.size\n",
    "\n",
    "new_width = int(original_width * (1/scaling_factors[\"tissue_hires_scalef\"]))\n",
    "new_height = int(original_height * (1/scaling_factors[\"tissue_hires_scalef\"]))\n",
    "\n",
    "scaled_image = input_image.resize((new_width, new_height), Image.ANTIALIAS)\n",
    "\n",
    "scaled_image.save('tissue_hires_image.tif')"
   ]
  }
 ],
 "metadata": {
  "kernelspec": {
   "display_name": "base",
   "language": "python",
   "name": "python3"
  },
  "language_info": {
   "codemirror_mode": {
    "name": "ipython",
    "version": 3
   },
   "file_extension": ".py",
   "mimetype": "text/x-python",
   "name": "python",
   "nbconvert_exporter": "python",
   "pygments_lexer": "ipython3",
   "version": "3.11.4"
  },
  "orig_nbformat": 4
 },
 "nbformat": 4,
 "nbformat_minor": 2
}
